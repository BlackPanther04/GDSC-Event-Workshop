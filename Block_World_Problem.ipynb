{
  "nbformat": 4,
  "nbformat_minor": 0,
  "metadata": {
    "colab": {
      "provenance": [],
      "authorship_tag": "ABX9TyMF4GPZb+5RO0JAJA3AP9lu",
      "include_colab_link": true
    },
    "kernelspec": {
      "name": "python3",
      "display_name": "Python 3"
    },
    "language_info": {
      "name": "python"
    }
  },
  "cells": [
    {
      "cell_type": "markdown",
      "metadata": {
        "id": "view-in-github",
        "colab_type": "text"
      },
      "source": [
        "<a href=\"https://colab.research.google.com/github/BlackPanther04/GDSC-Event-Workshop/blob/main/Block_World_Problem.ipynb\" target=\"_parent\"><img src=\"https://colab.research.google.com/assets/colab-badge.svg\" alt=\"Open In Colab\"/></a>"
      ]
    },
    {
      "cell_type": "code",
      "execution_count": 2,
      "metadata": {
        "colab": {
          "base_uri": "https://localhost:8080/",
          "height": 786
        },
        "id": "DpSt4V8vUkDH",
        "outputId": "159ed30c-8066-4e23-c206-3256138d6f6f"
      },
      "outputs": [
        {
          "output_type": "stream",
          "name": "stderr",
          "text": [
            "<ipython-input-2-5ffc1218730d>:20: UserWarning: Setting the 'color' property will override the edgecolor or facecolor properties.\n",
            "  ax.add_patch(plt.Rectangle((j, len(state) - i - 1), 1, 1, color=\"skyblue\", edgecolor=\"black\"))\n"
          ]
        },
        {
          "output_type": "display_data",
          "data": {
            "text/plain": [
              "<Figure size 600x400 with 1 Axes>"
            ],
            "image/png": "[encoded data removed]"
          },
          "metadata": {}
        },
        {
          "output_type": "stream",
          "name": "stderr",
          "text": [
            "<ipython-input-2-5ffc1218730d>:20: UserWarning: Setting the 'color' property will override the edgecolor or facecolor properties.\n",
            "  ax.add_patch(plt.Rectangle((j, len(state) - i - 1), 1, 1, color=\"skyblue\", edgecolor=\"black\"))\n"
          ]
        },
        {
          "output_type": "display_data",
          "data": {
            "text/plain": [
              "<Figure size 600x400 with 1 Axes>"
            ],
            "image/png": "[encoded data removed]"
          },
          "metadata": {}
        }
      ],
      "source": [
        "import matplotlib.pyplot as plt\n",
        "\n",
        "def draw_block_world_vertical(state, title):\n",
        "    \"\"\"\n",
        "    Draws the block world state with vertical stacks as a visual representation.\n",
        "\n",
        "    :param state: A list of stacks representing the block world.\n",
        "    :param title: The title for the visualization.\n",
        "    \"\"\"\n",
        "    fig, ax = plt.subplots(figsize=(6, 4))\n",
        "    max_height = max(len(stack) for stack in state)  # Calculate maximum stack height\n",
        "    ax.set_xlim(-1, max_height + 1)  # Extend x-axis for vertical orientation\n",
        "    ax.set_ylim(0, len(state) + 1)\n",
        "    ax.set_yticks(range(1, len(state) + 1))\n",
        "    ax.set_yticklabels([f\"Stack {i+1}\" for i in range(len(state))])\n",
        "\n",
        "    for i, stack in enumerate(state):\n",
        "        for j, block in enumerate(stack):\n",
        "            # Draw each block as a rectangle\n",
        "            ax.add_patch(plt.Rectangle((j, len(state) - i - 1), 1, 1, color=\"skyblue\", edgecolor=\"black\"))\n",
        "            ax.text(j + 0.5, len(state) - i - 0.5, block, ha=\"center\", va=\"center\", fontsize=12, weight=\"bold\")\n",
        "\n",
        "    ax.set_title(title)\n",
        "    ax.axis(\"off\")  # Remove axis for clean visualization\n",
        "    plt.show()\n",
        "\n",
        "# Initial state and goal state\n",
        "initial_state = [[\"C\"], [\"A\"], [\"B\"]]\n",
        "goal_state = [[\"A\"], [\"B\"], [\"C\"]]\n",
        "\n",
        "# Visualizing the initial state\n",
        "draw_block_world_vertical(initial_state, \"Initial State: C A B\")\n",
        "\n",
        "# Visualizing the goal state\n",
        "draw_block_world_vertical(goal_state, \"Goal State: A B C\")"
      ]
    }
  ]
}